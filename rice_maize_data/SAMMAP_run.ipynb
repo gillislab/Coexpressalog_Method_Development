{
 "cells": [
  {
   "cell_type": "code",
   "execution_count": 1,
   "metadata": {},
   "outputs": [
    {
     "name": "stderr",
     "output_type": "stream",
     "text": [
      "/home/passala/miniconda3/envs/SAMap/lib/python3.7/site-packages/tqdm/auto.py:22: TqdmWarning: IProgress not found. Please update jupyter and ipywidgets. See https://ipywidgets.readthedocs.io/en/stable/user_install.html\n",
      "  from .autonotebook import tqdm as notebook_tqdm\n"
     ]
    }
   ],
   "source": [
    "from samap.mapping import SAMAP\n",
    "from samap.analysis import (get_mapping_scores, GenePairFinder,\n",
    "                            sankey_plot, chord_plot, CellTypeTriangles, \n",
    "                            ParalogSubstitutions, FunctionalEnrichment,\n",
    "                            convert_eggnog_to_homologs, GeneTriangles)\n",
    "from samalg import SAM\n",
    "import pandas as pd\n",
    "import scanpy as sc"
   ]
  },
  {
   "cell_type": "code",
   "execution_count": 2,
   "metadata": {},
   "outputs": [],
   "source": [
    "fn1 = '/home/passala/Temp_directory_for_reading_error_all_stuff_backed_up_if_MP_is_PhD_delete/GEO_sourced_single_cell_for_CRUSH/SAMMAP_stuff/rice_filtered_sc.h5ad'\n",
    "fn2 = '/home/passala/Temp_directory_for_reading_error_all_stuff_backed_up_if_MP_is_PhD_delete/GEO_sourced_single_cell_for_CRUSH/SAMMAP_stuff/maize_filtered_sc.h5ad'"
   ]
  },
  {
   "cell_type": "code",
   "execution_count": 3,
   "metadata": {},
   "outputs": [],
   "source": [
    "filenames = {'OS':fn1,'ZM':fn2}"
   ]
  },
  {
   "cell_type": "code",
   "execution_count": 4,
   "metadata": {},
   "outputs": [],
   "source": [
    "A=pd.read_csv('/data/passala/Coexpressolog_paper_data/Sammap_files/blast_maps/maps/ZMOS/OS_to_ZM.txt',sep='\\t',index_col=0,header=None)"
   ]
  },
  {
   "cell_type": "code",
   "execution_count": 5,
   "metadata": {},
   "outputs": [
    {
     "data": {
      "text/html": [
       "<div>\n",
       "<style scoped>\n",
       "    .dataframe tbody tr th:only-of-type {\n",
       "        vertical-align: middle;\n",
       "    }\n",
       "\n",
       "    .dataframe tbody tr th {\n",
       "        vertical-align: top;\n",
       "    }\n",
       "\n",
       "    .dataframe thead th {\n",
       "        text-align: right;\n",
       "    }\n",
       "</style>\n",
       "<table border=\"1\" class=\"dataframe\">\n",
       "  <thead>\n",
       "    <tr style=\"text-align: right;\">\n",
       "      <th></th>\n",
       "      <th>1</th>\n",
       "      <th>2</th>\n",
       "      <th>3</th>\n",
       "      <th>4</th>\n",
       "      <th>5</th>\n",
       "      <th>6</th>\n",
       "      <th>7</th>\n",
       "      <th>8</th>\n",
       "      <th>9</th>\n",
       "      <th>10</th>\n",
       "      <th>11</th>\n",
       "    </tr>\n",
       "    <tr>\n",
       "      <th>0</th>\n",
       "      <th></th>\n",
       "      <th></th>\n",
       "      <th></th>\n",
       "      <th></th>\n",
       "      <th></th>\n",
       "      <th></th>\n",
       "      <th></th>\n",
       "      <th></th>\n",
       "      <th></th>\n",
       "      <th></th>\n",
       "      <th></th>\n",
       "    </tr>\n",
       "  </thead>\n",
       "  <tbody>\n",
       "    <tr>\n",
       "      <th>LOC_Os01g01010</th>\n",
       "      <td>Zm00001d040234</td>\n",
       "      <td>75.434</td>\n",
       "      <td>692</td>\n",
       "      <td>149</td>\n",
       "      <td>3</td>\n",
       "      <td>12</td>\n",
       "      <td>701</td>\n",
       "      <td>11</td>\n",
       "      <td>683</td>\n",
       "      <td>0.0</td>\n",
       "      <td>1073.0</td>\n",
       "    </tr>\n",
       "    <tr>\n",
       "      <th>LOC_Os01g01010</th>\n",
       "      <td>Zm00001d040234</td>\n",
       "      <td>75.434</td>\n",
       "      <td>692</td>\n",
       "      <td>149</td>\n",
       "      <td>3</td>\n",
       "      <td>12</td>\n",
       "      <td>701</td>\n",
       "      <td>11</td>\n",
       "      <td>683</td>\n",
       "      <td>0.0</td>\n",
       "      <td>1073.0</td>\n",
       "    </tr>\n",
       "    <tr>\n",
       "      <th>LOC_Os01g01010</th>\n",
       "      <td>Zm00001d040234</td>\n",
       "      <td>72.874</td>\n",
       "      <td>682</td>\n",
       "      <td>164</td>\n",
       "      <td>3</td>\n",
       "      <td>12</td>\n",
       "      <td>691</td>\n",
       "      <td>11</td>\n",
       "      <td>673</td>\n",
       "      <td>0.0</td>\n",
       "      <td>1015.0</td>\n",
       "    </tr>\n",
       "    <tr>\n",
       "      <th>LOC_Os01g01010</th>\n",
       "      <td>Zm00001d040234</td>\n",
       "      <td>74.772</td>\n",
       "      <td>658</td>\n",
       "      <td>145</td>\n",
       "      <td>3</td>\n",
       "      <td>12</td>\n",
       "      <td>667</td>\n",
       "      <td>11</td>\n",
       "      <td>649</td>\n",
       "      <td>0.0</td>\n",
       "      <td>1009.0</td>\n",
       "    </tr>\n",
       "    <tr>\n",
       "      <th>LOC_Os01g01010</th>\n",
       "      <td>Zm00001d040234</td>\n",
       "      <td>72.134</td>\n",
       "      <td>689</td>\n",
       "      <td>164</td>\n",
       "      <td>4</td>\n",
       "      <td>12</td>\n",
       "      <td>691</td>\n",
       "      <td>11</td>\n",
       "      <td>680</td>\n",
       "      <td>0.0</td>\n",
       "      <td>1007.0</td>\n",
       "    </tr>\n",
       "  </tbody>\n",
       "</table>\n",
       "</div>"
      ],
      "text/plain": [
       "                            1       2    3    4   5   6    7   8    9    10  \\\n",
       "0                                                                             \n",
       "LOC_Os01g01010  Zm00001d040234  75.434  692  149   3  12  701  11  683  0.0   \n",
       "LOC_Os01g01010  Zm00001d040234  75.434  692  149   3  12  701  11  683  0.0   \n",
       "LOC_Os01g01010  Zm00001d040234  72.874  682  164   3  12  691  11  673  0.0   \n",
       "LOC_Os01g01010  Zm00001d040234  74.772  658  145   3  12  667  11  649  0.0   \n",
       "LOC_Os01g01010  Zm00001d040234  72.134  689  164   4  12  691  11  680  0.0   \n",
       "\n",
       "                    11  \n",
       "0                       \n",
       "LOC_Os01g01010  1073.0  \n",
       "LOC_Os01g01010  1073.0  \n",
       "LOC_Os01g01010  1015.0  \n",
       "LOC_Os01g01010  1009.0  \n",
       "LOC_Os01g01010  1007.0  "
      ]
     },
     "execution_count": 5,
     "metadata": {},
     "output_type": "execute_result"
    }
   ],
   "source": [
    "A.head()"
   ]
  },
  {
   "cell_type": "code",
   "execution_count": 6,
   "metadata": {},
   "outputs": [],
   "source": [
    "sam1=SAM()\n",
    "sam1.load_data(fn1)\n",
    "sam2=SAM()\n",
    "sam2.load_data(fn2)\n"
   ]
  },
  {
   "cell_type": "code",
   "execution_count": 7,
   "metadata": {},
   "outputs": [
    {
     "name": "stdout",
     "output_type": "stream",
     "text": [
      "Processing data OS from:\n",
      "/home/passala/Temp_directory_for_reading_error_all_stuff_backed_up_if_MP_is_PhD_delete/GEO_sourced_single_cell_for_CRUSH/SAMMAP_stuff/rice_filtered_sc.h5ad\n",
      "RUNNING SAM\n",
      "Iteration: 0, Convergence: 1.0\n",
      "Iteration: 1, Convergence: 0.8681934312496883\n",
      "Iteration: 2, Convergence: 0.013529693973536998\n",
      "Computing the UMAP embedding...\n",
      "Elapsed time: 20.834450483322144 seconds\n",
      "Not updating the manifold...\n",
      "Processing data ZM from:\n",
      "/home/passala/Temp_directory_for_reading_error_all_stuff_backed_up_if_MP_is_PhD_delete/GEO_sourced_single_cell_for_CRUSH/SAMMAP_stuff/maize_filtered_sc.h5ad\n",
      "RUNNING SAM\n",
      "Iteration: 0, Convergence: 1.0\n",
      "Iteration: 1, Convergence: 0.9333975260857368\n",
      "Computing the UMAP embedding...\n",
      "Elapsed time: 11.033366918563843 seconds\n",
      "Not updating the manifold...\n"
     ]
    },
    {
     "ename": "TypeError",
     "evalue": "can only concatenate str (not \"int\") to str",
     "output_type": "error",
     "traceback": [
      "\u001b[0;31m---------------------------------------------------------------------------\u001b[0m",
      "\u001b[0;31mTypeError\u001b[0m                                 Traceback (most recent call last)",
      "\u001b[0;32m/tmp/ipykernel_879337/4053267171.py\u001b[0m in \u001b[0;36m<module>\u001b[0;34m\u001b[0m\n\u001b[1;32m      3\u001b[0m sm = SAMAP(\n\u001b[1;32m      4\u001b[0m         \u001b[0mfilenames\u001b[0m\u001b[0;34m,\u001b[0m\u001b[0;34m\u001b[0m\u001b[0;34m\u001b[0m\u001b[0m\n\u001b[0;32m----> 5\u001b[0;31m         \u001b[0mf_maps\u001b[0m \u001b[0;34m=\u001b[0m \u001b[0;34m'/data/passala/Coexpressolog_paper_data/Sammap_files/blast_maps/maps/'\u001b[0m\u001b[0;34m,\u001b[0m\u001b[0;34m\u001b[0m\u001b[0;34m\u001b[0m\u001b[0m\n\u001b[0m\u001b[1;32m      6\u001b[0m     )\n",
      "\u001b[0;32m~/miniconda3/envs/SAMap/lib/python3.7/site-packages/samap/mapping.py\u001b[0m in \u001b[0;36m__init__\u001b[0;34m(self, sams, f_maps, names, keys, resolutions, gnnm, save_processed, eval_thr)\u001b[0m\n\u001b[1;32m    140\u001b[0m         \u001b[0;32mif\u001b[0m \u001b[0mgnnm\u001b[0m \u001b[0;32mis\u001b[0m \u001b[0;32mNone\u001b[0m\u001b[0;34m:\u001b[0m\u001b[0;34m\u001b[0m\u001b[0;34m\u001b[0m\u001b[0m\n\u001b[1;32m    141\u001b[0m             gnnm, gns, gns_dict = _calculate_blast_graph(\n\u001b[0;32m--> 142\u001b[0;31m                 \u001b[0mids\u001b[0m\u001b[0;34m,\u001b[0m \u001b[0mf_maps\u001b[0m\u001b[0;34m=\u001b[0m\u001b[0mf_maps\u001b[0m\u001b[0;34m,\u001b[0m \u001b[0mreciprocate\u001b[0m\u001b[0;34m=\u001b[0m\u001b[0;32mTrue\u001b[0m\u001b[0;34m,\u001b[0m \u001b[0meval_thr\u001b[0m\u001b[0;34m=\u001b[0m\u001b[0meval_thr\u001b[0m\u001b[0;34m\u001b[0m\u001b[0;34m\u001b[0m\u001b[0m\n\u001b[0m\u001b[1;32m    143\u001b[0m             )            \n\u001b[1;32m    144\u001b[0m             \u001b[0;32mif\u001b[0m \u001b[0mnames\u001b[0m \u001b[0;32mis\u001b[0m \u001b[0;32mnot\u001b[0m \u001b[0;32mNone\u001b[0m\u001b[0;34m:\u001b[0m\u001b[0;34m\u001b[0m\u001b[0;34m\u001b[0m\u001b[0m\n",
      "\u001b[0;32m~/miniconda3/envs/SAMap/lib/python3.7/site-packages/samap/mapping.py\u001b[0m in \u001b[0;36m_calculate_blast_graph\u001b[0;34m(ids, f_maps, eval_thr, reciprocate)\u001b[0m\n\u001b[1;32m   1094\u001b[0m                 \u001b[0mB\u001b[0m\u001b[0;34m[\u001b[0m\u001b[0mB\u001b[0m\u001b[0;34m.\u001b[0m\u001b[0mcolumns\u001b[0m\u001b[0;34m[\u001b[0m\u001b[0;36m0\u001b[0m\u001b[0;34m]\u001b[0m\u001b[0;34m]\u001b[0m \u001b[0;34m=\u001b[0m \u001b[0m_prepend_blast_prefix\u001b[0m\u001b[0;34m(\u001b[0m\u001b[0mB\u001b[0m\u001b[0;34m.\u001b[0m\u001b[0miloc\u001b[0m\u001b[0;34m[\u001b[0m\u001b[0;34m:\u001b[0m\u001b[0;34m,\u001b[0m \u001b[0;36m0\u001b[0m\u001b[0;34m]\u001b[0m\u001b[0;34m.\u001b[0m\u001b[0mvalues\u001b[0m\u001b[0;34m.\u001b[0m\u001b[0mflatten\u001b[0m\u001b[0;34m(\u001b[0m\u001b[0;34m)\u001b[0m\u001b[0;34m,\u001b[0m\u001b[0mid1\u001b[0m\u001b[0;34m)\u001b[0m\u001b[0;34m\u001b[0m\u001b[0;34m\u001b[0m\u001b[0m\n\u001b[1;32m   1095\u001b[0m \u001b[0;34m\u001b[0m\u001b[0m\n\u001b[0;32m-> 1096\u001b[0;31m                 \u001b[0mB\u001b[0m\u001b[0;34m.\u001b[0m\u001b[0mindex\u001b[0m \u001b[0;34m=\u001b[0m \u001b[0m_prepend_blast_prefix\u001b[0m\u001b[0;34m(\u001b[0m\u001b[0mB\u001b[0m\u001b[0;34m.\u001b[0m\u001b[0mindex\u001b[0m\u001b[0;34m,\u001b[0m\u001b[0mid2\u001b[0m\u001b[0;34m)\u001b[0m\u001b[0;34m\u001b[0m\u001b[0;34m\u001b[0m\u001b[0m\n\u001b[0m\u001b[1;32m   1097\u001b[0m                 \u001b[0mA\u001b[0m\u001b[0;34m[\u001b[0m\u001b[0mA\u001b[0m\u001b[0;34m.\u001b[0m\u001b[0mcolumns\u001b[0m\u001b[0;34m[\u001b[0m\u001b[0;36m0\u001b[0m\u001b[0;34m]\u001b[0m\u001b[0;34m]\u001b[0m \u001b[0;34m=\u001b[0m \u001b[0m_prepend_blast_prefix\u001b[0m\u001b[0;34m(\u001b[0m\u001b[0mA\u001b[0m\u001b[0;34m.\u001b[0m\u001b[0miloc\u001b[0m\u001b[0;34m[\u001b[0m\u001b[0;34m:\u001b[0m\u001b[0;34m,\u001b[0m \u001b[0;36m0\u001b[0m\u001b[0;34m]\u001b[0m\u001b[0;34m.\u001b[0m\u001b[0mvalues\u001b[0m\u001b[0;34m.\u001b[0m\u001b[0mflatten\u001b[0m\u001b[0;34m(\u001b[0m\u001b[0;34m)\u001b[0m\u001b[0;34m,\u001b[0m\u001b[0mid2\u001b[0m\u001b[0;34m)\u001b[0m\u001b[0;34m\u001b[0m\u001b[0;34m\u001b[0m\u001b[0m\n\u001b[1;32m   1098\u001b[0m \u001b[0;34m\u001b[0m\u001b[0m\n",
      "\u001b[0;32m~/miniconda3/envs/SAMap/lib/python3.7/site-packages/samap/mapping.py\u001b[0m in \u001b[0;36m_prepend_blast_prefix\u001b[0;34m(data, pre)\u001b[0m\n\u001b[1;32m   1047\u001b[0m     \u001b[0;32mfor\u001b[0m \u001b[0mi\u001b[0m\u001b[0;34m,\u001b[0m\u001b[0mg\u001b[0m \u001b[0;32min\u001b[0m \u001b[0menumerate\u001b[0m\u001b[0;34m(\u001b[0m\u001b[0mdata\u001b[0m\u001b[0;34m)\u001b[0m\u001b[0;34m:\u001b[0m\u001b[0;34m\u001b[0m\u001b[0;34m\u001b[0m\u001b[0m\n\u001b[1;32m   1048\u001b[0m         \u001b[0;32mif\u001b[0m \u001b[0mx\u001b[0m\u001b[0;34m[\u001b[0m\u001b[0mi\u001b[0m\u001b[0;34m]\u001b[0m \u001b[0;34m!=\u001b[0m \u001b[0mpre\u001b[0m\u001b[0;34m:\u001b[0m\u001b[0;34m\u001b[0m\u001b[0;34m\u001b[0m\u001b[0m\n\u001b[0;32m-> 1049\u001b[0;31m             \u001b[0mvn\u001b[0m\u001b[0;34m.\u001b[0m\u001b[0mappend\u001b[0m\u001b[0;34m(\u001b[0m\u001b[0mpre\u001b[0m\u001b[0;34m+\u001b[0m\u001b[0;34m\"_\"\u001b[0m\u001b[0;34m+\u001b[0m\u001b[0mg\u001b[0m\u001b[0;34m)\u001b[0m\u001b[0;34m\u001b[0m\u001b[0;34m\u001b[0m\u001b[0m\n\u001b[0m\u001b[1;32m   1050\u001b[0m         \u001b[0;32melse\u001b[0m\u001b[0;34m:\u001b[0m\u001b[0;34m\u001b[0m\u001b[0;34m\u001b[0m\u001b[0m\n\u001b[1;32m   1051\u001b[0m             \u001b[0mvn\u001b[0m\u001b[0;34m.\u001b[0m\u001b[0mappend\u001b[0m\u001b[0;34m(\u001b[0m\u001b[0mg\u001b[0m\u001b[0;34m)\u001b[0m\u001b[0;34m\u001b[0m\u001b[0;34m\u001b[0m\u001b[0m\n",
      "\u001b[0;31mTypeError\u001b[0m: can only concatenate str (not \"int\") to str"
     ]
    }
   ],
   "source": [
    "sams = {'OS':sam1,'ZM':sam2}\n",
    "\n",
    "sm = SAMAP(\n",
    "        filenames,\n",
    "        f_maps = '/data/passala/Coexpressolog_paper_data/Sammap_files/blast_maps/maps/',\n",
    "    )"
   ]
  },
  {
   "cell_type": "code",
   "execution_count": 8,
   "metadata": {},
   "outputs": [
    {
     "data": {
      "text/plain": [
       "['OS', 'ZM']"
      ]
     },
     "execution_count": 8,
     "metadata": {},
     "output_type": "execute_result"
    }
   ],
   "source": [
    "ids = list(filenames.keys())\n",
    "ids"
   ]
  },
  {
   "cell_type": "code",
   "execution_count": 9,
   "metadata": {},
   "outputs": [],
   "source": [
    "# ids = ids\n",
    "# f_maps = '/data/passala/Coexpressolog_paper_data/Sammap_files/blast_maps/maps/'\n",
    "# eval_thr=1e-6\n",
    "# reciprocate=False\n",
    "# gns = []\n",
    "# Xs=[]\n",
    "# Ys=[]\n",
    "# Vs=[]\n",
    "\n",
    "# for i in range(len(ids)):\n",
    "#     id1=ids[i]\n",
    "#     for j in range(i,len(ids)):\n",
    "#         id2=ids[j]\n",
    "#         if i!=j:\n",
    "#             if os.path.exists(f_maps + \"{}{}\".format(id1, id2)):\n",
    "#                 fA = f_maps + \"{}{}/{}_to_{}.txt\".format(id1, id2, id1, id2)\n",
    "#                 fB = f_maps + \"{}{}/{}_to_{}.txt\".format(id1, id2, id2, id1)\n",
    "#             elif os.path.exists(f_maps + \"{}{}\".format(id2, id1)):\n",
    "#                 fA = f_maps + \"{}{}/{}_to_{}.txt\".format(id2, id1, id1, id2)\n",
    "#                 fB = f_maps + \"{}{}/{}_to_{}.txt\".format(id2, id1, id2, id1)\n",
    "#             else:\n",
    "#                 raise FileExistsError(\n",
    "#                     \"BLAST mapping tables with the input IDs ({} and {}) not found in the specified path.\".format(\n",
    "#                         id1, id2\n",
    "#                     )\n",
    "#                 )\n",
    "\n",
    "#             A = pd.read_csv(fA, sep=\"\\t\", header=None, index_col=0)\n",
    "#             B = pd.read_csv(fB, sep=\"\\t\", header=None, index_col=0)\n",
    "\n",
    "\n",
    "\n",
    "#             A.columns = A.columns.astype(\"<U100\")\n",
    "#             B.columns = B.columns.astype(\"<U100\")\n",
    "\n",
    "#             A = A[A.index.astype(\"str\") != \"nan\"]\n",
    "#             A = A[A.iloc[:, 0].astype(\"str\") != \"nan\"]\n",
    "#             B = B[B.index.astype(\"str\") != \"nan\"]\n",
    "#             B = B[B.iloc[:, 0].astype(\"str\") != \"nan\"]\n",
    "\n",
    "#             A.index = A.index.astype('str')#### THESE TWO LINES FIX THE CODE PAY ATTENTION HERE\n",
    "#             ### PAY ATTENTION HERE\n",
    "#             B.index = B.index.astype('str')\n",
    "\n",
    "#             A.index = _prepend_blast_prefix(A.index,id1)\n",
    "#             B[B.columns[0]] = _prepend_blast_prefix(B.iloc[:, 0].values.flatten(),id1)\n",
    "\n",
    "#             B.index = _prepend_blast_prefix(B.index,id2)\n",
    "#             A[A.columns[0]] = _prepend_blast_prefix(A.iloc[:, 0].values.flatten(),id2)\n",
    "\n",
    "#             i1 = np.where(A.columns == \"10\")[0][0]\n",
    "#             i3 = np.where(A.columns == \"11\")[0][0]\n",
    "\n",
    "#             inA = q(A.index)\n",
    "#             inB = q(B.index)\n",
    "\n",
    "#             inA2 = q(A.iloc[:, 0])\n",
    "#             inB2 = q(B.iloc[:, 0])\n",
    "#             gn1 = np.unique(np.append(inB2, inA))\n",
    "#             gn2 = np.unique(np.append(inA2, inB))\n",
    "#             gn = np.append(gn1, gn2)\n",
    "#             gnind = pd.DataFrame(data=np.arange(gn.size)[None, :], columns=gn)\n",
    "\n",
    "#             A.index = pd.Index(gnind[A.index].values.flatten())\n",
    "#             B.index = pd.Index(gnind[B.index].values.flatten())\n",
    "#             A[A.columns[0]] = gnind[A.iloc[:, 0].values.flatten()].values.flatten()\n",
    "#             B[B.columns[0]] = gnind[B.iloc[:, 0].values.flatten()].values.flatten()\n",
    "\n",
    "#             Arows = np.vstack((A.index, A.iloc[:, 0], A.iloc[:, i3])).T\n",
    "#             Arows = Arows[A.iloc[:, i1].values.flatten() <= eval_thr, :]\n",
    "#             gnnm1 = sp.sparse.lil_matrix((gn.size,) * 2)\n",
    "#             gnnm1[Arows[:, 0].astype(\"int32\"), Arows[:, 1].astype(\"int32\")] = Arows[\n",
    "#                 :, 2\n",
    "#             ]  # -np.log10(Arows[:,2]+1e-200)\n",
    "\n",
    "#             Brows = np.vstack((B.index, B.iloc[:, 0], B.iloc[:, i3])).T\n",
    "#             Brows = Brows[B.iloc[:, i1].values.flatten() <= eval_thr, :]\n",
    "#             gnnm2 = sp.sparse.lil_matrix((gn.size,) * 2)\n",
    "#             gnnm2[Brows[:, 0].astype(\"int32\"), Brows[:, 1].astype(\"int32\")] = Brows[\n",
    "#                 :, 2\n",
    "#             ]  # -np.log10(Brows[:,2]+1e-200)\n",
    "\n",
    "#             gnnm = (gnnm1 + gnnm2).tocsr()\n",
    "#             gnnms = (gnnm + gnnm.T) / 2\n",
    "#             if reciprocate:\n",
    "#                 gnnm.data[:] = 1\n",
    "#                 gnnms = gnnms.multiply(gnnm).multiply(gnnm.T).tocsr()\n",
    "#             gnnm = gnnms\n",
    "\n",
    "#             f1 = np.where(np.in1d(gn,gn1))[0]\n",
    "#             f2 = np.where(np.in1d(gn,gn2))[0]\n",
    "#             f = np.append(f1,f2)\n",
    "#             gn = gn[f]\n",
    "#             gnnm = gnnm[f,:][:,f]\n",
    "            \n",
    "#             V = gnnm.data\n",
    "#             X,Y = gnnm.nonzero()\n",
    "            \n",
    "#             Xs.extend(gn[X])\n",
    "#             Ys.extend(gn[Y])\n",
    "#             Vs.extend(V)\n",
    "#             gns.extend(gn)\n"
   ]
  },
  {
   "cell_type": "code",
   "execution_count": 10,
   "metadata": {},
   "outputs": [
    {
     "name": "stdout",
     "output_type": "stream",
     "text": [
      "Prepping datasets for translation.\n",
      "Translating feature spaces pairwise.\n",
      "Projecting data into joint latent space. 0.2521088123321533\n",
      "Correcting data with means. 1.0239274501800537\n",
      "Expanding neighbourhoods of species OS...\n",
      "Expanding neighbourhoods of species ZM...\n",
      "Indegree coarsening\n",
      "0/1 (0, 6332)\n",
      "Rescaling edge weights by expression correlations.\n",
      "Concatenating SAM objects...\n",
      "Iteration 1 complete.\n",
      "Alignment scores:\n",
      "          OS       ZM\n",
      "OS  0.000000  0.02811\n",
      "ZM  0.033166  0.00000\n",
      "Calculating gene-gene correlations in the homology graph...\n"
     ]
    },
    {
     "ename": "TypingError",
     "evalue": "Failed in nopython mode pipeline (step: nopython frontend)\n\u001b[1mFailed in nopython mode pipeline (step: native lowering)\n\u001b[1m\u001b[1mCannot cast float64 to [unichr x 2]: double %\"arg.key\"\u001b[0m\n\u001b[0m\u001b[1mDuring: lowering \"castedkey = call $2load_global.0(key, $6load_deref.2, func=$2load_global.0, args=[Var(key, dictobject.py:757), Var($6load_deref.2, dictobject.py:757)], kws=(), vararg=None, varkwarg=None, target=None)\" at /home/passala/miniconda3/envs/SAMap/lib/python3.7/site-packages/numba/typed/dictobject.py (757)\u001b[0m\n\u001b[0m\u001b[1mDuring: typing of intrinsic-call at /home/passala/miniconda3/envs/SAMap/lib/python3.7/site-packages/samap/mapping.py (1477)\u001b[0m\n\u001b[1m\nFile \"../../../../../home/passala/miniconda3/envs/SAMap/lib/python3.7/site-packages/samap/mapping.py\", line 1477:\u001b[0m\n\u001b[1mdef _refine_corr_kernel(p, ps, sids, sixs, indptr,indices,data, n, corr_mode):\n    <source elided>\n        a1, a2 = ps1[j], ps2[j]\n\u001b[1m        ix1 = d[a1]\n\u001b[0m        \u001b[1m^\u001b[0m\u001b[0m\n",
     "output_type": "error",
     "traceback": [
      "\u001b[0;31m---------------------------------------------------------------------------\u001b[0m",
      "\u001b[0;31mTypingError\u001b[0m                               Traceback (most recent call last)",
      "\u001b[0;32m/tmp/ipykernel_877879/2571156453.py\u001b[0m in \u001b[0;36m<module>\u001b[0;34m\u001b[0m\n\u001b[0;32m----> 1\u001b[0;31m \u001b[0msm\u001b[0m\u001b[0;34m.\u001b[0m\u001b[0mrun\u001b[0m\u001b[0;34m(\u001b[0m\u001b[0;34m)\u001b[0m\u001b[0;34m\u001b[0m\u001b[0;34m\u001b[0m\u001b[0m\n\u001b[0m\u001b[1;32m      2\u001b[0m \u001b[0msamap\u001b[0m \u001b[0;34m=\u001b[0m \u001b[0msm\u001b[0m\u001b[0;34m.\u001b[0m\u001b[0msamap\u001b[0m \u001b[0;31m# SAM object with three species stitched together\u001b[0m\u001b[0;34m\u001b[0m\u001b[0;34m\u001b[0m\u001b[0m\n",
      "\u001b[0;32m~/miniconda3/envs/SAMap/lib/python3.7/site-packages/samap/mapping.py\u001b[0m in \u001b[0;36mrun\u001b[0;34m(self, NUMITERS, NHS, crossK, N_GENE_CHUNKS, umap, ncpus, hom_edge_thr, hom_edge_mode, scale_edges_by_corr, neigh_from_keys, pairwise)\u001b[0m\n\u001b[1;32m    306\u001b[0m             \u001b[0mscale_edges_by_corr\u001b[0m \u001b[0;34m=\u001b[0m \u001b[0mscale_edges_by_corr\u001b[0m\u001b[0;34m,\u001b[0m\u001b[0;34m\u001b[0m\u001b[0;34m\u001b[0m\u001b[0m\n\u001b[1;32m    307\u001b[0m             \u001b[0mneigh_from_keys\u001b[0m\u001b[0;34m=\u001b[0m\u001b[0mneigh_from_keys\u001b[0m\u001b[0;34m,\u001b[0m\u001b[0;34m\u001b[0m\u001b[0;34m\u001b[0m\u001b[0m\n\u001b[0;32m--> 308\u001b[0;31m             \u001b[0mpairwise\u001b[0m\u001b[0;34m=\u001b[0m\u001b[0mpairwise\u001b[0m\u001b[0;34m\u001b[0m\u001b[0;34m\u001b[0m\u001b[0m\n\u001b[0m\u001b[1;32m    309\u001b[0m         )\n\u001b[1;32m    310\u001b[0m         \u001b[0msamap\u001b[0m \u001b[0;34m=\u001b[0m \u001b[0msmap\u001b[0m\u001b[0;34m.\u001b[0m\u001b[0mfinal_sam\u001b[0m\u001b[0;34m\u001b[0m\u001b[0;34m\u001b[0m\u001b[0m\n",
      "\u001b[0;32m~/miniconda3/envs/SAMap/lib/python3.7/site-packages/samap/mapping.py\u001b[0m in \u001b[0;36mrun\u001b[0;34m(self, NUMITERS, NHS, K, corr_mode, NCLUSTERS, scale_edges_by_corr, THR, neigh_from_keys, pairwise, ncpus)\u001b[0m\n\u001b[1;32m    726\u001b[0m                 \u001b[0mprint\u001b[0m\u001b[0;34m(\u001b[0m\u001b[0;34m\"Calculating gene-gene correlations in the homology graph...\"\u001b[0m\u001b[0;34m)\u001b[0m\u001b[0;34m\u001b[0m\u001b[0;34m\u001b[0m\u001b[0m\n\u001b[1;32m    727\u001b[0m                 \u001b[0mself\u001b[0m\u001b[0;34m.\u001b[0m\u001b[0msamap\u001b[0m \u001b[0;34m=\u001b[0m \u001b[0msam4\u001b[0m\u001b[0;34m\u001b[0m\u001b[0;34m\u001b[0m\u001b[0m\n\u001b[0;32m--> 728\u001b[0;31m                 \u001b[0mgnnmu\u001b[0m \u001b[0;34m=\u001b[0m \u001b[0mself\u001b[0m\u001b[0;34m.\u001b[0m\u001b[0mrefine_homology_graph\u001b[0m\u001b[0;34m(\u001b[0m\u001b[0mncpus\u001b[0m \u001b[0;34m=\u001b[0m \u001b[0mncpus\u001b[0m\u001b[0;34m,\u001b[0m  \u001b[0mNCLUSTERS\u001b[0m \u001b[0;34m=\u001b[0m \u001b[0mNCLUSTERS\u001b[0m\u001b[0;34m,\u001b[0m  \u001b[0mTHR\u001b[0m\u001b[0;34m=\u001b[0m\u001b[0mTHR\u001b[0m\u001b[0;34m,\u001b[0m \u001b[0mcorr_mode\u001b[0m\u001b[0;34m=\u001b[0m\u001b[0mcorr_mode\u001b[0m\u001b[0;34m)\u001b[0m\u001b[0;34m\u001b[0m\u001b[0;34m\u001b[0m\u001b[0m\n\u001b[0m\u001b[1;32m    729\u001b[0m \u001b[0;34m\u001b[0m\u001b[0m\n\u001b[1;32m    730\u001b[0m                 \u001b[0mself\u001b[0m\u001b[0;34m.\u001b[0m\u001b[0mGNNMS_corr\u001b[0m\u001b[0;34m.\u001b[0m\u001b[0mappend\u001b[0m\u001b[0;34m(\u001b[0m\u001b[0mgnnmu\u001b[0m\u001b[0;34m)\u001b[0m\u001b[0;34m\u001b[0m\u001b[0;34m\u001b[0m\u001b[0m\n",
      "\u001b[0;32m~/miniconda3/envs/SAMap/lib/python3.7/site-packages/samap/mapping.py\u001b[0m in \u001b[0;36mrefine_homology_graph\u001b[0;34m(self, NCLUSTERS, ncpus, THR, corr_mode, wscale)\u001b[0m\n\u001b[1;32m    664\u001b[0m             \u001b[0mncpus\u001b[0m\u001b[0;34m=\u001b[0m\u001b[0mncpus\u001b[0m\u001b[0;34m,\u001b[0m\u001b[0;34m\u001b[0m\u001b[0;34m\u001b[0m\u001b[0m\n\u001b[1;32m    665\u001b[0m             \u001b[0mcorr_mode\u001b[0m\u001b[0;34m=\u001b[0m\u001b[0mcorr_mode\u001b[0m\u001b[0;34m,\u001b[0m\u001b[0;34m\u001b[0m\u001b[0;34m\u001b[0m\u001b[0m\n\u001b[0;32m--> 666\u001b[0;31m             \u001b[0mwscale\u001b[0m\u001b[0;34m=\u001b[0m\u001b[0mwscale\u001b[0m\u001b[0;34m\u001b[0m\u001b[0;34m\u001b[0m\u001b[0m\n\u001b[0m\u001b[1;32m    667\u001b[0m         )\n\u001b[1;32m    668\u001b[0m         \u001b[0;32mreturn\u001b[0m \u001b[0mgnnmu\u001b[0m\u001b[0;34m\u001b[0m\u001b[0;34m\u001b[0m\u001b[0m\n",
      "\u001b[0;32m~/miniconda3/envs/SAMap/lib/python3.7/site-packages/samap/mapping.py\u001b[0m in \u001b[0;36m_refine_corr\u001b[0;34m(sams, st, gnnm, gns_dict, corr_mode, THR, use_seq, T1, NCLUSTERS, ncpus, wscale)\u001b[0m\n\u001b[1;32m   1014\u001b[0m             \u001b[0mT1\u001b[0m\u001b[0;34m=\u001b[0m\u001b[0mT1\u001b[0m\u001b[0;34m,\u001b[0m\u001b[0;34m\u001b[0m\u001b[0;34m\u001b[0m\u001b[0m\n\u001b[1;32m   1015\u001b[0m             \u001b[0mncpus\u001b[0m\u001b[0;34m=\u001b[0m\u001b[0mncpus\u001b[0m\u001b[0;34m,\u001b[0m\u001b[0;34m\u001b[0m\u001b[0;34m\u001b[0m\u001b[0m\n\u001b[0;32m-> 1016\u001b[0;31m             \u001b[0mwscale\u001b[0m\u001b[0;34m=\u001b[0m\u001b[0mwscale\u001b[0m\u001b[0;34m\u001b[0m\u001b[0;34m\u001b[0m\u001b[0m\n\u001b[0m\u001b[1;32m   1017\u001b[0m         )\n\u001b[1;32m   1018\u001b[0m         \u001b[0mGNNMSUBS\u001b[0m\u001b[0;34m.\u001b[0m\u001b[0mappend\u001b[0m\u001b[0;34m(\u001b[0m\u001b[0mgnnm2_sub\u001b[0m\u001b[0;34m)\u001b[0m\u001b[0;34m\u001b[0m\u001b[0;34m\u001b[0m\u001b[0m\n",
      "\u001b[0;32m~/miniconda3/envs/SAMap/lib/python3.7/site-packages/samap/mapping.py\u001b[0m in \u001b[0;36m_refine_corr_parallel\u001b[0;34m(sams, st, gnnm, gns_dict, corr_mode, THR, use_seq, T1, ncpus, wscale)\u001b[0m\n\u001b[1;32m   1562\u001b[0m         \u001b[0msixs\u001b[0m\u001b[0;34m.\u001b[0m\u001b[0mappend\u001b[0m\u001b[0;34m(\u001b[0m\u001b[0mnp\u001b[0m\u001b[0;34m.\u001b[0m\u001b[0mwhere\u001b[0m\u001b[0;34m(\u001b[0m\u001b[0mspecies\u001b[0m\u001b[0;34m==\u001b[0m\u001b[0msid\u001b[0m\u001b[0;34m)\u001b[0m\u001b[0;34m[\u001b[0m\u001b[0;36m0\u001b[0m\u001b[0;34m]\u001b[0m\u001b[0;34m)\u001b[0m\u001b[0;34m\u001b[0m\u001b[0;34m\u001b[0m\u001b[0m\n\u001b[1;32m   1563\u001b[0m \u001b[0;34m\u001b[0m\u001b[0m\n\u001b[0;32m-> 1564\u001b[0;31m     \u001b[0mvals\u001b[0m \u001b[0;34m=\u001b[0m \u001b[0m_refine_corr_kernel\u001b[0m\u001b[0;34m(\u001b[0m\u001b[0mp\u001b[0m\u001b[0;34m,\u001b[0m\u001b[0mps\u001b[0m\u001b[0;34m,\u001b[0m\u001b[0msidss\u001b[0m\u001b[0;34m,\u001b[0m\u001b[0msixs\u001b[0m\u001b[0;34m,\u001b[0m\u001b[0mXavg\u001b[0m\u001b[0;34m.\u001b[0m\u001b[0mindptr\u001b[0m\u001b[0;34m,\u001b[0m\u001b[0mXavg\u001b[0m\u001b[0;34m.\u001b[0m\u001b[0mindices\u001b[0m\u001b[0;34m,\u001b[0m\u001b[0mXavg\u001b[0m\u001b[0;34m.\u001b[0m\u001b[0mdata\u001b[0m\u001b[0;34m,\u001b[0m\u001b[0mXavg\u001b[0m\u001b[0;34m.\u001b[0m\u001b[0mshape\u001b[0m\u001b[0;34m[\u001b[0m\u001b[0;36m0\u001b[0m\u001b[0;34m]\u001b[0m\u001b[0;34m,\u001b[0m \u001b[0mcorr_mode\u001b[0m\u001b[0;34m)\u001b[0m\u001b[0;34m\u001b[0m\u001b[0;34m\u001b[0m\u001b[0m\n\u001b[0m\u001b[1;32m   1565\u001b[0m     \u001b[0mvals\u001b[0m\u001b[0;34m[\u001b[0m\u001b[0mnp\u001b[0m\u001b[0;34m.\u001b[0m\u001b[0misnan\u001b[0m\u001b[0;34m(\u001b[0m\u001b[0mvals\u001b[0m\u001b[0;34m)\u001b[0m\u001b[0;34m]\u001b[0m\u001b[0;34m=\u001b[0m\u001b[0;36m0\u001b[0m\u001b[0;34m\u001b[0m\u001b[0;34m\u001b[0m\u001b[0m\n\u001b[1;32m   1566\u001b[0m \u001b[0;34m\u001b[0m\u001b[0m\n",
      "\u001b[0;32m~/miniconda3/envs/SAMap/lib/python3.7/site-packages/numba/core/dispatcher.py\u001b[0m in \u001b[0;36m_compile_for_args\u001b[0;34m(self, *args, **kws)\u001b[0m\n\u001b[1;32m    466\u001b[0m                 \u001b[0me\u001b[0m\u001b[0;34m.\u001b[0m\u001b[0mpatch_message\u001b[0m\u001b[0;34m(\u001b[0m\u001b[0mmsg\u001b[0m\u001b[0;34m)\u001b[0m\u001b[0;34m\u001b[0m\u001b[0;34m\u001b[0m\u001b[0m\n\u001b[1;32m    467\u001b[0m \u001b[0;34m\u001b[0m\u001b[0m\n\u001b[0;32m--> 468\u001b[0;31m             \u001b[0merror_rewrite\u001b[0m\u001b[0;34m(\u001b[0m\u001b[0me\u001b[0m\u001b[0;34m,\u001b[0m \u001b[0;34m'typing'\u001b[0m\u001b[0;34m)\u001b[0m\u001b[0;34m\u001b[0m\u001b[0;34m\u001b[0m\u001b[0m\n\u001b[0m\u001b[1;32m    469\u001b[0m         \u001b[0;32mexcept\u001b[0m \u001b[0merrors\u001b[0m\u001b[0;34m.\u001b[0m\u001b[0mUnsupportedError\u001b[0m \u001b[0;32mas\u001b[0m \u001b[0me\u001b[0m\u001b[0;34m:\u001b[0m\u001b[0;34m\u001b[0m\u001b[0;34m\u001b[0m\u001b[0m\n\u001b[1;32m    470\u001b[0m             \u001b[0;31m# Something unsupported is present in the user code, add help info\u001b[0m\u001b[0;34m\u001b[0m\u001b[0;34m\u001b[0m\u001b[0;34m\u001b[0m\u001b[0m\n",
      "\u001b[0;32m~/miniconda3/envs/SAMap/lib/python3.7/site-packages/numba/core/dispatcher.py\u001b[0m in \u001b[0;36merror_rewrite\u001b[0;34m(e, issue_type)\u001b[0m\n\u001b[1;32m    407\u001b[0m                 \u001b[0;32mraise\u001b[0m \u001b[0me\u001b[0m\u001b[0;34m\u001b[0m\u001b[0;34m\u001b[0m\u001b[0m\n\u001b[1;32m    408\u001b[0m             \u001b[0;32melse\u001b[0m\u001b[0;34m:\u001b[0m\u001b[0;34m\u001b[0m\u001b[0;34m\u001b[0m\u001b[0m\n\u001b[0;32m--> 409\u001b[0;31m                 \u001b[0;32mraise\u001b[0m \u001b[0me\u001b[0m\u001b[0;34m.\u001b[0m\u001b[0mwith_traceback\u001b[0m\u001b[0;34m(\u001b[0m\u001b[0;32mNone\u001b[0m\u001b[0;34m)\u001b[0m\u001b[0;34m\u001b[0m\u001b[0;34m\u001b[0m\u001b[0m\n\u001b[0m\u001b[1;32m    410\u001b[0m \u001b[0;34m\u001b[0m\u001b[0m\n\u001b[1;32m    411\u001b[0m         \u001b[0margtypes\u001b[0m \u001b[0;34m=\u001b[0m \u001b[0;34m[\u001b[0m\u001b[0;34m]\u001b[0m\u001b[0;34m\u001b[0m\u001b[0;34m\u001b[0m\u001b[0m\n",
      "\u001b[0;31mTypingError\u001b[0m: Failed in nopython mode pipeline (step: nopython frontend)\n\u001b[1mFailed in nopython mode pipeline (step: native lowering)\n\u001b[1m\u001b[1mCannot cast float64 to [unichr x 2]: double %\"arg.key\"\u001b[0m\n\u001b[0m\u001b[1mDuring: lowering \"castedkey = call $2load_global.0(key, $6load_deref.2, func=$2load_global.0, args=[Var(key, dictobject.py:757), Var($6load_deref.2, dictobject.py:757)], kws=(), vararg=None, varkwarg=None, target=None)\" at /home/passala/miniconda3/envs/SAMap/lib/python3.7/site-packages/numba/typed/dictobject.py (757)\u001b[0m\n\u001b[0m\u001b[1mDuring: typing of intrinsic-call at /home/passala/miniconda3/envs/SAMap/lib/python3.7/site-packages/samap/mapping.py (1477)\u001b[0m\n\u001b[1m\nFile \"../../../../../home/passala/miniconda3/envs/SAMap/lib/python3.7/site-packages/samap/mapping.py\", line 1477:\u001b[0m\n\u001b[1mdef _refine_corr_kernel(p, ps, sids, sixs, indptr,indices,data, n, corr_mode):\n    <source elided>\n        a1, a2 = ps1[j], ps2[j]\n\u001b[1m        ix1 = d[a1]\n\u001b[0m        \u001b[1m^\u001b[0m\u001b[0m\n"
     ]
    }
   ],
   "source": [
    "sm.run()\n",
    "samap = sm.samap # SAM object with three species stitched together"
   ]
  },
  {
   "cell_type": "code",
   "execution_count": null,
   "metadata": {},
   "outputs": [],
   "source": [
    "sm.scatter()"
   ]
  },
  {
   "cell_type": "code",
   "execution_count": null,
   "metadata": {},
   "outputs": [],
   "source": []
  }
 ],
 "metadata": {
  "kernelspec": {
   "display_name": "SAMap",
   "language": "python",
   "name": "python3"
  },
  "language_info": {
   "codemirror_mode": {
    "name": "ipython",
    "version": 3
   },
   "file_extension": ".py",
   "mimetype": "text/x-python",
   "name": "python",
   "nbconvert_exporter": "python",
   "pygments_lexer": "ipython3",
   "version": "3.7.12"
  },
  "orig_nbformat": 4
 },
 "nbformat": 4,
 "nbformat_minor": 2
}
